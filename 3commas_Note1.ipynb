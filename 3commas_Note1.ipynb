{
 "cells": [
  {
   "cell_type": "code",
   "execution_count": 1,
   "metadata": {},
   "outputs": [],
   "source": [
    "#!/usr/bin/env python3\n",
    "import os\n",
    "import sys\n",
    "import time\n",
    "import json\n",
    "import argparse\n",
    "from pathlib import Path\n",
    "\n"
   ]
  },
  {
   "cell_type": "markdown",
   "metadata": {},
   "source": [
    "# Create or load configuration file"
   ]
  },
  {
   "cell_type": "code",
   "execution_count": 2,
   "metadata": {},
   "outputs": [
    {
     "name": "stderr",
     "output_type": "stream",
     "text": [
      "2022-04-29 22:27:43 - _gridbot.ini - INFO - 3C Cyber Bot-Helper _gridbot.ini\n",
      "2022-04-29 22:27:43 - _gridbot.ini - INFO - Started on Friday 22:27:43 2022-04-29\n",
      "2022-04-29 22:27:43 - _gridbot.ini - INFO - Notifications are disabled\n"
     ]
    }
   ],
   "source": [
    "import gridbot as Gb\n",
    "datadir = os.getcwd()\n",
    "program ='_gridbot'\n",
    "\n",
    "# Create or load configuration file\n",
    "config = Gb.load_config(datadir, '_gridbot')\n",
    "if not config:\n",
    "    # Initialise temp logging\n",
    "    logger = Gb.Logger(datadir, '{program}.ini', None, 7, False, False)\n",
    "    logger.info(\n",
    "        f\"Created example config file '{datadir}/{program}, edit it and restart the program\"\n",
    "    )\n",
    "    sys.exit(0)\n",
    "else:\n",
    "    # Handle timezone\n",
    "    if hasattr(time, \"tzset\"):\n",
    "        os.environ[\"TZ\"] = config.get(\n",
    "            \"settings\", \"timezone\", fallback=\"Europe/Amsterdam\"\n",
    "        )\n",
    "        time.tzset()\n",
    "\n",
    "    # Init notification handler\n",
    "    notification = Gb.NotificationHandler(\n",
    "        '_gridbot.ini',\n",
    "        config.getboolean(\"settings\", \"notifications\"),\n",
    "        config.get(\"settings\", \"notify-urls\"),\n",
    "    )\n",
    "\n",
    "    # Initialise logging\n",
    "    logger = Gb.Logger(\n",
    "        datadir,\n",
    "        '_gridbot.ini',\n",
    "        notification,\n",
    "        int(config.get(\"settings\", \"logrotate\", fallback=7)),\n",
    "        config.getboolean(\"settings\", \"debug\"),\n",
    "        config.getboolean(\"settings\", \"notifications\"),\n",
    "    )\n"
   ]
  },
  {
   "cell_type": "markdown",
   "metadata": {},
   "source": [
    "# Initialize 3Commas API"
   ]
  },
  {
   "cell_type": "code",
   "execution_count": 3,
   "metadata": {},
   "outputs": [],
   "source": [
    "# Initialize 3Commas API\n",
    "api = Gb.init_threecommas_api(config)"
   ]
  },
  {
   "cell_type": "markdown",
   "metadata": {},
   "source": [
    "# Auto tune a running gridbot"
   ]
  },
  {
   "cell_type": "code",
   "execution_count": 4,
   "metadata": {},
   "outputs": [
    {
     "name": "stderr",
     "output_type": "stream",
     "text": [
      "2022-04-29 22:27:46 - _gridbot.ini - INFO - Reloaded configuration from 'd:\\PythonProjects\\3commas-cyber-bots/_gridbot.ini'\n"
     ]
    }
   ],
   "source": [
    "config = Gb.load_config(datadir,program)\n",
    "logger.info(f\"Reloaded configuration from '{datadir}/{program}.ini'\")"
   ]
  },
  {
   "cell_type": "code",
   "execution_count": 5,
   "metadata": {},
   "outputs": [],
   "source": [
    "    # Configuration settings\n",
    "timeint = int(config.get(\"settings\", \"timeinterval\"))\n",
    "botids = json.loads(config.get(\"settings\", \"botids\"))"
   ]
  },
  {
   "cell_type": "markdown",
   "metadata": {},
   "source": [
    "# Walk through all bots specified"
   ]
  },
  {
   "cell_type": "code",
   "execution_count": 6,
   "metadata": {},
   "outputs": [
    {
     "data": {
      "text/plain": [
       "[1304343]"
      ]
     },
     "execution_count": 6,
     "metadata": {},
     "output_type": "execute_result"
    }
   ],
   "source": [
    "botids"
   ]
  },
  {
   "cell_type": "code",
   "execution_count": 6,
   "metadata": {},
   "outputs": [
    {
     "name": "stderr",
     "output_type": "stream",
     "text": [
      "2022-04-29 22:27:51 - _gridbot.ini - INFO - Current settings for 'My Grid Bot':\n",
      "2022-04-29 22:27:51 - _gridbot.ini - INFO - Pair: USDT_BTC\n",
      "2022-04-29 22:27:51 - _gridbot.ini - INFO - Upper price: 44265.0\n",
      "2022-04-29 22:27:51 - _gridbot.ini - INFO - Lower price: 34722.0\n",
      "2022-04-29 22:27:51 - _gridbot.ini - INFO - Quantity per grid: 0.00449\n",
      "2022-04-29 22:27:51 - _gridbot.ini - INFO - Grid quantity: 60\n",
      "2022-04-29 22:27:51 - _gridbot.ini - INFO - Strategy type: manual\n",
      "2022-04-29 22:27:51 - _gridbot.ini - INFO - Current price for USDT_BTC is 38536.18\n",
      "2022-04-29 22:27:52 - _gridbot.ini - INFO - Fetched grid-bots data OK\n",
      "2022-04-29 22:27:52 - _gridbot.ini - INFO - Grid of gridbot 'My Grid Bot' with pair USDT_BTC will be adjusted like this:\n",
      "Upper: 44265.0 -> 44213.500 Lower: 34722.0 -> 34739.200\n"
     ]
    }
   ],
   "source": [
    "# Walk through all bots specified\n",
    "for bot in botids:\n",
    "    boterror, botdata = api.request(\n",
    "        entity=\"grid_bots\",\n",
    "        action=\"get\",\n",
    "        action_id=str(bot),\n",
    "    )\n",
    "    if botdata:\n",
    "        logger.debug(\"Raw Gridbot data: %s\" % botdata)\n",
    "        Gb.manage_gridbot(logger,botdata)\n",
    "    else:\n",
    "        logger.error(\"Error occurred managing gridbots: %s\" % boterror[\"msg\"])\n",
    "\n"
   ]
  },
  {
   "cell_type": "code",
   "execution_count": 8,
   "metadata": {},
   "outputs": [
    {
     "name": "stderr",
     "output_type": "stream",
     "text": [
      "2022-04-29 22:31:43 - _gridbot.ini - INFO - Reloaded configuration from 'd:\\PythonProjects\\3commas-cyber-bots/_gridbot.ini'\n",
      "2022-04-29 22:31:43 - _gridbot.ini - INFO - Current settings for 'My Grid Bot':\n",
      "2022-04-29 22:31:43 - _gridbot.ini - INFO - Pair: USDT_BTC\n",
      "2022-04-29 22:31:43 - _gridbot.ini - INFO - Upper price: 44265.0\n",
      "2022-04-29 22:31:43 - _gridbot.ini - INFO - Lower price: 34722.0\n",
      "2022-04-29 22:31:43 - _gridbot.ini - INFO - Quantity per grid: 0.00449\n",
      "2022-04-29 22:31:43 - _gridbot.ini - INFO - Grid quantity: 60\n",
      "2022-04-29 22:31:43 - _gridbot.ini - INFO - Strategy type: manual\n",
      "2022-04-29 22:31:43 - _gridbot.ini - INFO - Current price for USDT_BTC is 38333.78\n",
      "2022-04-29 22:31:43 - _gridbot.ini - INFO - Fetched grid-bots data OK\n",
      "2022-04-29 22:31:43 - _gridbot.ini - INFO - Grid of gridbot 'My Grid Bot' with pair USDT_BTC will be adjusted like this:\n",
      "Upper: 44265.0 -> 44213.500 Lower: 34722.0 -> 34739.200\n",
      "2022-04-29 22:31:43 - _gridbot.ini - INFO - Next update in 3600 Seconds at 23:31:43\n"
     ]
    }
   ],
   "source": [
    "\n",
    "\n",
    "\n",
    "# Auto tune a running gridbot\n",
    "while True:\n",
    "\n",
    "    config = Gb.load_config(datadir,program)\n",
    "    logger.info(f\"Reloaded configuration from '{datadir}/{program}.ini'\")\n",
    "\n",
    "    # Configuration settings\n",
    "    timeint = int(config.get(\"settings\", \"timeinterval\"))\n",
    "    botids = json.loads(config.get(\"settings\", \"botids\"))\n",
    "\n",
    "    # Walk through all bots specified\n",
    "    for bot in botids:\n",
    "        boterror, botdata = api.request(\n",
    "            entity=\"grid_bots\",\n",
    "            action=\"get\",\n",
    "            action_id=str(bot),\n",
    "        )\n",
    "        if botdata:\n",
    "            logger.debug(\"Raw Gridbot data: %s\" % botdata)\n",
    "            Gb.manage_gridbot(logger,botdata)\n",
    "        else:\n",
    "            logger.error(\"Error occurred managing gridbots: %s\" % boterror[\"msg\"])\n",
    "    if not Gb.wait_time_interval(logger, notification, timeint):\n",
    "        break"
   ]
  }
 ],
 "metadata": {
  "interpreter": {
   "hash": "3efe22151281f0393b5f01cc3327c811bd6495bbd2a92ca8d4c449ddc202c9fc"
  },
  "kernelspec": {
   "display_name": "Python 3.7.13 ('P37')",
   "language": "python",
   "name": "python3"
  },
  "language_info": {
   "codemirror_mode": {
    "name": "ipython",
    "version": 3
   },
   "file_extension": ".py",
   "mimetype": "text/x-python",
   "name": "python",
   "nbconvert_exporter": "python",
   "pygments_lexer": "ipython3",
   "version": "3.7.13"
  },
  "orig_nbformat": 4
 },
 "nbformat": 4,
 "nbformat_minor": 2
}
